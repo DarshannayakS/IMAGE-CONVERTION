{
 "cells": [
  {
   "cell_type": "markdown",
   "id": "6c6e13a2",
   "metadata": {
    "scrolled": true
   },
   "source": [
    "# IMAGE TO WEBP CONVERTER"
   ]
  },
  {
   "cell_type": "code",
   "execution_count": 1,
   "id": "4c71ddc6",
   "metadata": {},
   "outputs": [],
   "source": [
    "#!pip install pillow\n",
    "# provides functions for opening,and saving many different image file formats"
   ]
  },
  {
   "cell_type": "code",
   "execution_count": 2,
   "id": "11d60350",
   "metadata": {},
   "outputs": [],
   "source": [
    "#!pip install tk\n",
    "#for creating graphical user interfaces (GUIs) in Python."
   ]
  },
  {
   "cell_type": "code",
   "execution_count": 3,
   "id": "8caa2b53",
   "metadata": {},
   "outputs": [],
   "source": [
    "#IMPORTING LIBRARIES\n",
    "import os\n",
    "import shutil \n",
    "from tkinter import Tk, Label, Button, filedialog\n",
    "from PIL import Image"
   ]
  },
  {
   "cell_type": "code",
   "execution_count": 4,
   "id": "29221234",
   "metadata": {},
   "outputs": [],
   "source": [
    " #Define Upload and Download Directories\n",
    "UPLOAD_DIR = 'uploads'\n",
    "CONVERTED_DIR = 'converted'\n",
    "\n",
    "#Creates the directories uploads and converted if they don't already exist.\n",
    "os.makedirs(UPLOAD_DIR, exist_ok=True)\n",
    "os.makedirs(CONVERTED_DIR, exist_ok=True)"
   ]
  },
  {
   "cell_type": "code",
   "execution_count": 5,
   "id": "ebc1c38f",
   "metadata": {},
   "outputs": [],
   "source": [
    "#Variables to store the paths of the uploaded and converted images.\n",
    "uploaded_file_path = None\n",
    "converted_file_path = None"
   ]
  },
  {
   "cell_type": "code",
   "execution_count": 6,
   "id": "8bf99c89",
   "metadata": {},
   "outputs": [],
   "source": [
    "#Function to Convert an Image to WebP Format\n",
    "def convert_image_to_webp(image_path: str, save_directory: str) -> str:\n",
    "    '''Converts an image to the WebP format and saves it.'''\n",
    "    \n",
    "#Supported Formats and Input Format Validation\n",
    "    supported_formats = [\"jpeg\", \"jpg\", \"png\"]\n",
    "    input_format = os.path.splitext(image_path)[1][1:].lower()\n",
    "    \n",
    "    if input_format not in supported_formats:\n",
    "        raise ValueError(f\"Unsupported input format: '{input_format}'. Supported formats are: 'jpeg', 'jpg', 'png'\")\n",
    "\n",
    "#Generate Output Path for the Converted Image\n",
    "    img_nm = os.path.splitext(os.path.basename(image_path))[0]\n",
    "    output_path = os.path.join(save_directory, f\"{img_nm}.webp\")\n",
    "    \n",
    "#Convert and Save the Image\n",
    "\n",
    "    if not os.path.exists(output_path):\n",
    "        img = Image.open(image_path)\n",
    "        img.save(output_path, format='WEBP')\n",
    "\n",
    "        \n",
    "    return output_path"
   ]
  },
  {
   "cell_type": "code",
   "execution_count": 7,
   "id": "d731c406",
   "metadata": {},
   "outputs": [],
   "source": [
    "\n",
    "# Function to convert the uploaded image\n",
    "def convert_image():\n",
    "    global uploaded_file_path, converted_file_path\n",
    "    if not uploaded_file_path:\n",
    "        status_label.config(text=\"Please upload a file first.\", fg=\"red\")\n",
    "        return\n",
    "    \n",
    "    try:\n",
    "        converted_file_path = convert_image_to_webp(uploaded_file_path, CONVERTED_DIR)\n",
    "        status_label.config(text=\"Conversion complete. Ready to download.\", fg=\"green\")\n",
    "    except ValueError as e:\n",
    "        status_label.config(text=f\"Error: {str(e)}\", fg=\"red\")\n",
    "    except Exception as e:\n",
    "        status_label.config(text=f\"An unexpected error occurred: {str(e)}\", fg=\"red\")\n",
    "\n"
   ]
  },
  {
   "cell_type": "code",
   "execution_count": 8,
   "id": "252fa9a7",
   "metadata": {},
   "outputs": [],
   "source": [
    "# Function to download the converted file\n",
    "def download_file():\n",
    "    global converted_file_path\n",
    "    if not converted_file_path:\n",
    "        status_label.config(text=\"No file to download. Please convert a file first.\", fg=\"red\")\n",
    "        return\n",
    "    \n",
    "    status_label.config(text=\"Downloading...\", fg=\"green\")\n",
    "    root.update_idletasks()\n",
    "    \n",
    "    download_path = filedialog.asksaveasfilename(defaultextension=\".webp\",\n",
    "                                                 filetypes=[(\"WebP files\", \"*.webp\")])\n",
    "    if download_path:\n",
    "        shutil.copy(converted_file_path, download_path)  # Copy the file to the chosen location\n",
    "        status_label.config(text=\"Download complete.\", fg=\"green\")\n"
   ]
  },
  {
   "cell_type": "code",
   "execution_count": 9,
   "id": "178cca96",
   "metadata": {},
   "outputs": [],
   "source": [
    "# Function to upload file\n",
    "def upload_file():\n",
    "    global uploaded_file_path \n",
    "    file_path = filedialog.askopenfilename(filetypes=[(\"Image files\", \"*.jpeg *.jpg *.png\")])\n",
    "    if file_path:\n",
    "        file_name = os.path.basename(file_path)\n",
    "        save_path = os.path.join(UPLOAD_DIR, file_name)\n",
    "        \n",
    "        # Rename the file if it already exists\n",
    "        base_name, extension = os.path.splitext(file_name)\n",
    "        counter = 1\n",
    "        while os.path.exists(save_path):\n",
    "            new_file_name = f\"{base_name}_{counter}{extension}\"\n",
    "            save_path = os.path.join(UPLOAD_DIR, new_file_name)\n",
    "            counter += 1\n",
    "        \n",
    "        shutil.copy(file_path, save_path) \n",
    "        uploaded_file_path = save_path  # Update to new path in UPLOAD_DIR\n",
    "        status_label.config(text=\"File uploaded. Ready to convert.\", fg=\"green\")"
   ]
  },
  {
   "cell_type": "code",
   "execution_count": null,
   "id": "fd4dd30b",
   "metadata": {},
   "outputs": [],
   "source": [
    "\n",
    "# Initialize the main window\n",
    "root = Tk()\n",
    "root.title(\"Image to WebP Converter\")\n",
    "root.configure(bg='black')\n",
    "root.geometry(\"600x300\")  # Width x Height\n",
    "\n",
    "# Add labels and buttons to the window\n",
    "Label(root, text=\"Convert Image to WebP\", bg='black', fg='white', font=('Helvetica', 16)).pack(pady=20)\n",
    "Button(root, text=\"Upload Image\", command=upload_file, bg=\"red\", fg=\"white\", font=('Helvetica', 14), width=25).pack(pady=10)\n",
    "Button(root, text=\"Convert Image to WebP\", command=convert_image, bg=\"red\", fg=\"white\", font=('Helvetica', 14), width=25).pack(pady=10)\n",
    "Button(root, text=\"Download Converted Image\", command=download_file, bg=\"red\", fg=\"white\", font=('Helvetica', 14), width=25).pack(pady=10)\n",
    "\n",
    "# Status label to show messages\n",
    "status_label = Label(root, text=\"\", bg='black', fg=\"red\", font=('Helvetica', 12))\n",
    "status_label.pack(pady=10)\n",
    "\n",
    "# Run the application\n",
    "root.mainloop()"
   ]
  },
  {
   "cell_type": "code",
   "execution_count": null,
   "id": "e57259ea",
   "metadata": {},
   "outputs": [],
   "source": []
  },
  {
   "cell_type": "code",
   "execution_count": null,
   "id": "edd77cf4",
   "metadata": {},
   "outputs": [],
   "source": []
  },
  {
   "cell_type": "code",
   "execution_count": null,
   "id": "10f923d5",
   "metadata": {},
   "outputs": [],
   "source": []
  }
 ],
 "metadata": {
  "kernelspec": {
   "display_name": "Python 3 (ipykernel)",
   "language": "python",
   "name": "python3"
  },
  "language_info": {
   "codemirror_mode": {
    "name": "ipython",
    "version": 3
   },
   "file_extension": ".py",
   "mimetype": "text/x-python",
   "name": "python",
   "nbconvert_exporter": "python",
   "pygments_lexer": "ipython3",
   "version": "3.9.13"
  }
 },
 "nbformat": 4,
 "nbformat_minor": 5
}
